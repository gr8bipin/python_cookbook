{
 "cells": [
  {
   "cell_type": "markdown",
   "id": "daf5a18f",
   "metadata": {},
   "source": [
    "# 8.1. Changing the String Representation of Instances"
   ]
  },
  {
   "cell_type": "markdown",
   "id": "fa4cadcb",
   "metadata": {},
   "source": [
    "# Problem\n",
    "You want to change the output produced by printing or viewing instances to something\n",
    "more sensible."
   ]
  },
  {
   "cell_type": "code",
   "execution_count": 1,
   "id": "947c97f1",
   "metadata": {},
   "outputs": [],
   "source": [
    "# Solution\n",
    "# To change the string representation of an instance, define the __str__() and\n",
    "# _repr__() methods. For example:\n",
    "\n",
    "class Pair:\n",
    "    def __init__(self, x, y):\n",
    "        self.x = x\n",
    "        self.y = y\n",
    "    def __repr__(self):\n",
    "        return 'Pair({0.x!r}, {0.y!r})'.format(self)\n",
    "    def __str__(self):\n",
    "        return '({0.x!s}, {0.y!s})'.format(self)"
   ]
  },
  {
   "cell_type": "code",
   "execution_count": null,
   "id": "d5f1ee5e",
   "metadata": {},
   "outputs": [
    {
     "data": {
      "text/plain": [
       "Pair(3, 4)"
      ]
     },
     "execution_count": 3,
     "metadata": {},
     "output_type": "execute_result"
    }
   ],
   "source": [
    "# The __repr__() method returns the code representation of an instance, and is usually\n",
    "# the text you would type to re-create the instance. The built-in repr() function returns\n",
    "# this text, as does the interactive interpreter when inspecting values. The __str__()\n",
    "# method converts the instance to a string, and is the output produced by the str() and\n",
    "# print() functions. For example:\n",
    "\n",
    "p = Pair(3, 4)\n",
    "p\n",
    "#__repr__() output"
   ]
  },
  {
   "cell_type": "code",
   "execution_count": null,
   "id": "7b216d99",
   "metadata": {},
   "outputs": [
    {
     "name": "stdout",
     "output_type": "stream",
     "text": [
      "(3, 4)\n"
     ]
    }
   ],
   "source": [
    "print(p)\n",
    "#__str__() output"
   ]
  },
  {
   "cell_type": "code",
   "execution_count": 6,
   "id": "2677103a",
   "metadata": {},
   "outputs": [
    {
     "name": "stdout",
     "output_type": "stream",
     "text": [
      "p is Pair(3, 4)\n"
     ]
    }
   ],
   "source": [
    "# The implementation of this recipe also shows how different string representations may\n",
    "# be used during formatting. Specifically, the special !r formatting code indicates that the\n",
    "# output of __repr__() should be used instead of __str__(), the default. You can try this\n",
    "# experiment with the preceding class to see this:\n",
    "\n",
    "p = Pair(3, 4)\n",
    "print('p is {0!r}'.format(p))"
   ]
  },
  {
   "cell_type": "code",
   "execution_count": 7,
   "id": "2393c74d",
   "metadata": {},
   "outputs": [
    {
     "name": "stdout",
     "output_type": "stream",
     "text": [
      "p is (3, 4)\n"
     ]
    }
   ],
   "source": [
    "print('p is {0}'.format(p))"
   ]
  },
  {
   "cell_type": "markdown",
   "id": "0d12e0c2",
   "metadata": {},
   "source": []
  }
 ],
 "metadata": {
  "kernelspec": {
   "display_name": "venv",
   "language": "python",
   "name": "python3"
  },
  "language_info": {
   "codemirror_mode": {
    "name": "ipython",
    "version": 3
   },
   "file_extension": ".py",
   "mimetype": "text/x-python",
   "name": "python",
   "nbconvert_exporter": "python",
   "pygments_lexer": "ipython3",
   "version": "3.12.3"
  }
 },
 "nbformat": 4,
 "nbformat_minor": 5
}
